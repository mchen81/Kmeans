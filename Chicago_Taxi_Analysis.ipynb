{
 "cells": [
  {
   "cell_type": "markdown",
   "id": "documented-fruit",
   "metadata": {},
   "source": [
    "# Chicago taxi data \n",
    "\n",
    "## Clustering Algorithm\n",
    "DBSCAN is appied in this anlysis because we do not to pre-define the number of clusters. Generally, the taxi picking up location is really random, and it is interesting to know if there are any obvious groups among the dataset. \n",
    "\n",
    "## Pre-processing\n",
    "The dataset represents each taxi-trip informatino which includes taxi's id, trip's distance, time, locatino, etc. To evaluate the clustering algorithms, only the the columns of coordinates are needed. Therefore, the pre-processing extracted two columns: ***Pickup Centroid Latitude*** and ***Pickup Centroid Longitude***. Also, we don't need any NA data so the rows containing N/A will be dropped.\n"
   ]
  },
  {
   "cell_type": "code",
   "execution_count": 2,
   "id": "velvet-radio",
   "metadata": {},
   "outputs": [],
   "source": [
    "import matplotlib.pyplot as plt\n",
    "import seaborn as sns; sns.set()\n",
    "import pandas as pd\n",
    "import numpy as np\n",
    "from sklearn.preprocessing import StandardScaler\n",
    "from sklearn.cluster import DBSCAN\n",
    "\n",
    "df = pd.read_csv('chicago_taxi.csv')\n",
    "pickup_coordinates_df = df[['Pickup Centroid Latitude', 'Pickup Centroid Longitude']].dropna()"
   ]
  },
  {
   "cell_type": "code",
   "execution_count": 3,
   "id": "narrow-socket",
   "metadata": {
    "scrolled": false
   },
   "outputs": [
    {
     "data": {
      "text/plain": [
       "273071"
      ]
     },
     "execution_count": 3,
     "metadata": {},
     "output_type": "execute_result"
    }
   ],
   "source": [
    "# Total rows\n",
    "len(pickup_coordinates_df)"
   ]
  },
  {
   "cell_type": "markdown",
   "id": "shared-turkey",
   "metadata": {},
   "source": [
    "## Sampling\n",
    "This dataframe has 273071 rows, which quietly slows down processing. To speed up the process, I decided to take 30000 rows only. To be fair, I used the [sampling method](https://pandas.pydata.org/pandas-docs/stable/reference/api/pandas.DataFrame.sample.html) from the Pandas."
   ]
  },
  {
   "cell_type": "code",
   "execution_count": 4,
   "id": "front-adrian",
   "metadata": {},
   "outputs": [],
   "source": [
    "# sampling data\n",
    "sampled_df = pickup_coordinates_df.sample(30000)"
   ]
  },
  {
   "cell_type": "markdown",
   "id": "controlling-movement",
   "metadata": {},
   "source": [
    "## Normalization\n",
    "Although the coordinates are presented in human-read format, I still want to normalize the latitude and longitude to give us a nicer perspective evaluating the result."
   ]
  },
  {
   "cell_type": "markdown",
   "id": "soviet-rouge",
   "metadata": {},
   "source": [
    "## DBSCAN\n",
    "The first algorithm is DBSCAN, it needs two parameters: eps and min_sample. The *eps* is the radius for each data point when doing the clustering. And the min_sample is how many data points are at least counted into a group. "
   ]
  },
  {
   "cell_type": "code",
   "execution_count": 11,
   "id": "subsequent-minnesota",
   "metadata": {},
   "outputs": [],
   "source": [
    "X = sampled_df.to_numpy()\n",
    "X = StandardScaler().fit_transform(X)\n",
    "dbscan_clustering = DBSCAN(eps=0.4, min_samples=50).fit(X)"
   ]
  },
  {
   "cell_type": "code",
   "execution_count": 12,
   "id": "silent-trout",
   "metadata": {},
   "outputs": [
    {
     "data": {
      "text/plain": [
       "array([-1,  0,  1,  2,  3,  4,  5])"
      ]
     },
     "execution_count": 12,
     "metadata": {},
     "output_type": "execute_result"
    }
   ],
   "source": [
    "# How many groups in the clustering\n",
    "np.unique(dbscan_clustering.labels_)"
   ]
  },
  {
   "cell_type": "markdown",
   "id": "plastic-pilot",
   "metadata": {},
   "source": [
    "### Grouping label\n",
    "\n",
    "The cell above shows the DBSCAN divided the sampled dataset into 7 groups. The groups label marked as -1 means outliers, and the other 6 are the groups that containing at least 50 points. \n",
    "\n",
    "### Expectation\n",
    "My expectation was that almost each data points would be in a group.  \n",
    "But as the following figure shows, the purple points are all outliers, which is not what I actually want. \n",
    "\n",
    "### Evaluation\n",
    "I have tested many different eps and min_samples. When setting eps to below 0.4, there will be too many groups(about 20). It is quite difficult to get the best match between eps and min_samples. \n",
    "\n",
    "### Conclusion\n",
    "Although DBSCAN creates a lot of outliers, it well grouped close points into a cluster. Overall, it is good to know how DBSCAN actually works and having a good match of eps and sample is a hard work. \n"
   ]
  },
  {
   "cell_type": "code",
   "execution_count": 13,
   "id": "herbal-radiation",
   "metadata": {},
   "outputs": [
    {
     "data": {
      "text/plain": [
       "<matplotlib.collections.PathCollection at 0x7f89b45f28b0>"
      ]
     },
     "execution_count": 13,
     "metadata": {},
     "output_type": "execute_result"
    },
    {
     "data": {
      "image/png": "[encoded data removed]",
      "text/plain": [
       "<Figure size 432x288 with 1 Axes>"
      ]
     },
     "metadata": {},
     "output_type": "display_data"
    }
   ],
   "source": [
    "plt.scatter(X[:,0], X[:,1], c=dbscan_clustering.labels_, cmap='viridis', s=10)"
   ]
  }
 ],
 "metadata": {
  "kernelspec": {
   "display_name": "Python 3",
   "language": "python",
   "name": "python3"
  },
  "language_info": {
   "codemirror_mode": {
    "name": "ipython",
    "version": 3
   },
   "file_extension": ".py",
   "mimetype": "text/x-python",
   "name": "python",
   "nbconvert_exporter": "python",
   "pygments_lexer": "ipython3",
   "version": "3.8.5"
  }
 },
 "nbformat": 4,
 "nbformat_minor": 5
}
