{
 "cells": [
  {
   "cell_type": "markdown",
   "metadata": {},
   "source": [
    "# Finnish location data \n",
    "This dataset has no description about the columns. However, based on its title, we can know this is some location informatino in Finnish. There are two columns without name, which look like latitude and longitude because Finnish is located around ([62.058847, 25.865436](https://www.google.com.tw/maps/search/finnish/@62.0416005,25.7979737,8z))"
   ]
  },
  {
   "cell_type": "code",
   "execution_count": 1,
   "metadata": {
    "scrolled": true
   },
   "outputs": [
    {
     "data": {
      "text/html": [
       "<div>\n",
       "<style scoped>\n",
       "    .dataframe tbody tr th:only-of-type {\n",
       "        vertical-align: middle;\n",
       "    }\n",
       "\n",
       "    .dataframe tbody tr th {\n",
       "        vertical-align: top;\n",
       "    }\n",
       "\n",
       "    .dataframe thead th {\n",
       "        text-align: right;\n",
       "    }\n",
       "</style>\n",
       "<table border=\"1\" class=\"dataframe\">\n",
       "  <thead>\n",
       "    <tr style=\"text-align: right;\">\n",
       "      <th></th>\n",
       "      <th>0</th>\n",
       "      <th>1</th>\n",
       "    </tr>\n",
       "  </thead>\n",
       "  <tbody>\n",
       "    <tr>\n",
       "      <th>0</th>\n",
       "      <td>625983</td>\n",
       "      <td>297439</td>\n",
       "    </tr>\n",
       "    <tr>\n",
       "      <th>1</th>\n",
       "      <td>626146</td>\n",
       "      <td>297440</td>\n",
       "    </tr>\n",
       "    <tr>\n",
       "      <th>2</th>\n",
       "      <td>626144</td>\n",
       "      <td>297456</td>\n",
       "    </tr>\n",
       "    <tr>\n",
       "      <th>3</th>\n",
       "      <td>626004</td>\n",
       "      <td>297394</td>\n",
       "    </tr>\n",
       "    <tr>\n",
       "      <th>4</th>\n",
       "      <td>626018</td>\n",
       "      <td>297437</td>\n",
       "    </tr>\n",
       "    <tr>\n",
       "      <th>...</th>\n",
       "      <td>...</td>\n",
       "      <td>...</td>\n",
       "    </tr>\n",
       "    <tr>\n",
       "      <th>13462</th>\n",
       "      <td>626042</td>\n",
       "      <td>297444</td>\n",
       "    </tr>\n",
       "    <tr>\n",
       "      <th>13463</th>\n",
       "      <td>625977</td>\n",
       "      <td>297443</td>\n",
       "    </tr>\n",
       "    <tr>\n",
       "      <th>13464</th>\n",
       "      <td>626050</td>\n",
       "      <td>297404</td>\n",
       "    </tr>\n",
       "    <tr>\n",
       "      <th>13465</th>\n",
       "      <td>625995</td>\n",
       "      <td>297426</td>\n",
       "    </tr>\n",
       "    <tr>\n",
       "      <th>13466</th>\n",
       "      <td>625982</td>\n",
       "      <td>297431</td>\n",
       "    </tr>\n",
       "  </tbody>\n",
       "</table>\n",
       "<p>13467 rows × 2 columns</p>\n",
       "</div>"
      ],
      "text/plain": [
       "            0       1\n",
       "0      625983  297439\n",
       "1      626146  297440\n",
       "2      626144  297456\n",
       "3      626004  297394\n",
       "4      626018  297437\n",
       "...       ...     ...\n",
       "13462  626042  297444\n",
       "13463  625977  297443\n",
       "13464  626050  297404\n",
       "13465  625995  297426\n",
       "13466  625982  297431\n",
       "\n",
       "[13467 rows x 2 columns]"
      ]
     },
     "execution_count": 1,
     "metadata": {},
     "output_type": "execute_result"
    }
   ],
   "source": [
    "import matplotlib.pyplot as plt\n",
    "import seaborn as sns; sns.set()\n",
    "import pandas as pd\n",
    "import numpy as np\n",
    "from sklearn.preprocessing import StandardScaler\n",
    "df = pd.read_csv('MopsiLocationsUntil2012-Finland.txt', sep='\\t', header=None)\n",
    "df"
   ]
  },
  {
   "cell_type": "code",
   "execution_count": 2,
   "metadata": {},
   "outputs": [
    {
     "data": {
      "text/html": [
       "<div>\n",
       "<style scoped>\n",
       "    .dataframe tbody tr th:only-of-type {\n",
       "        vertical-align: middle;\n",
       "    }\n",
       "\n",
       "    .dataframe tbody tr th {\n",
       "        vertical-align: top;\n",
       "    }\n",
       "\n",
       "    .dataframe thead th {\n",
       "        text-align: right;\n",
       "    }\n",
       "</style>\n",
       "<table border=\"1\" class=\"dataframe\">\n",
       "  <thead>\n",
       "    <tr style=\"text-align: right;\">\n",
       "      <th></th>\n",
       "      <th>0</th>\n",
       "      <th>1</th>\n",
       "    </tr>\n",
       "  </thead>\n",
       "  <tbody>\n",
       "    <tr>\n",
       "      <th>0</th>\n",
       "      <td>62.5983</td>\n",
       "      <td>29.7439</td>\n",
       "    </tr>\n",
       "    <tr>\n",
       "      <th>1</th>\n",
       "      <td>62.6146</td>\n",
       "      <td>29.7440</td>\n",
       "    </tr>\n",
       "    <tr>\n",
       "      <th>2</th>\n",
       "      <td>62.6144</td>\n",
       "      <td>29.7456</td>\n",
       "    </tr>\n",
       "    <tr>\n",
       "      <th>3</th>\n",
       "      <td>62.6004</td>\n",
       "      <td>29.7394</td>\n",
       "    </tr>\n",
       "    <tr>\n",
       "      <th>4</th>\n",
       "      <td>62.6018</td>\n",
       "      <td>29.7437</td>\n",
       "    </tr>\n",
       "    <tr>\n",
       "      <th>...</th>\n",
       "      <td>...</td>\n",
       "      <td>...</td>\n",
       "    </tr>\n",
       "    <tr>\n",
       "      <th>13462</th>\n",
       "      <td>62.6042</td>\n",
       "      <td>29.7444</td>\n",
       "    </tr>\n",
       "    <tr>\n",
       "      <th>13463</th>\n",
       "      <td>62.5977</td>\n",
       "      <td>29.7443</td>\n",
       "    </tr>\n",
       "    <tr>\n",
       "      <th>13464</th>\n",
       "      <td>62.6050</td>\n",
       "      <td>29.7404</td>\n",
       "    </tr>\n",
       "    <tr>\n",
       "      <th>13465</th>\n",
       "      <td>62.5995</td>\n",
       "      <td>29.7426</td>\n",
       "    </tr>\n",
       "    <tr>\n",
       "      <th>13466</th>\n",
       "      <td>62.5982</td>\n",
       "      <td>29.7431</td>\n",
       "    </tr>\n",
       "  </tbody>\n",
       "</table>\n",
       "<p>13467 rows × 2 columns</p>\n",
       "</div>"
      ],
      "text/plain": [
       "             0        1\n",
       "0      62.5983  29.7439\n",
       "1      62.6146  29.7440\n",
       "2      62.6144  29.7456\n",
       "3      62.6004  29.7394\n",
       "4      62.6018  29.7437\n",
       "...        ...      ...\n",
       "13462  62.6042  29.7444\n",
       "13463  62.5977  29.7443\n",
       "13464  62.6050  29.7404\n",
       "13465  62.5995  29.7426\n",
       "13466  62.5982  29.7431\n",
       "\n",
       "[13467 rows x 2 columns]"
      ]
     },
     "execution_count": 2,
     "metadata": {},
     "output_type": "execute_result"
    }
   ],
   "source": [
    "# To get a regular coordinate format, here simply divided all vlue by 10,000\n",
    "coordinated_df = df.apply(lambda x: x/10000, axis=1)\n",
    "coordinated_df"
   ]
  },
  {
   "cell_type": "markdown",
   "metadata": {},
   "source": [
    "## KMeans\n",
    "\n",
    "Since we do not know what these locations actually mean, KMeans could be an appropriate method to divide the dataset. We want to see how the dataset is formed, and KMeans has the abilitiy to differentiate all data points. \n",
    "\n",
    "## Normalization\n",
    "Though it is giving latidute and longitude, but it is still better to normalize them. We can reverse it later.\n",
    "\n",
    "## Expectation\n",
    "\n",
    "Because kmeans is able to group a dataset balancedly, I am going to set up 5 clusters for it and see if Kmeans can well group 5 different areas in Finland. "
   ]
  },
  {
   "cell_type": "code",
   "execution_count": 3,
   "metadata": {},
   "outputs": [],
   "source": [
    "from sklearn.preprocessing import StandardScaler\n",
    "scaler = StandardScaler()\n",
    "X = scaler.fit_transform(coordinated_df.to_numpy())"
   ]
  },
  {
   "cell_type": "code",
   "execution_count": 4,
   "metadata": {},
   "outputs": [
    {
     "data": {
      "text/plain": [
       "array([0, 0, 0, ..., 0, 0, 0], dtype=int32)"
      ]
     },
     "execution_count": 4,
     "metadata": {},
     "output_type": "execute_result"
    }
   ],
   "source": [
    "from sklearn.cluster import KMeans\n",
    "\n",
    "kmeans = KMeans(n_clusters=5, random_state=0)\n",
    "kmeans.fit(X)\n",
    "kmeans.labels_"
   ]
  },
  {
   "cell_type": "code",
   "execution_count": 5,
   "metadata": {
    "scrolled": true
   },
   "outputs": [
    {
     "data": {
      "text/plain": [
       "<matplotlib.collections.PathCollection at 0x7fde2001fe80>"
      ]
     },
     "execution_count": 5,
     "metadata": {},
     "output_type": "execute_result"
    },
    {
     "data": {
      "image/png": "[encoded data removed]",
      "text/plain": [
       "<Figure size 432x288 with 1 Axes>"
      ]
     },
     "metadata": {},
     "output_type": "display_data"
    }
   ],
   "source": [
    "plt.scatter(X[:,0], X[:,1], c=kmeans.labels_, cmap='viridis', s=10)"
   ]
  },
  {
   "cell_type": "code",
   "execution_count": 6,
   "metadata": {},
   "outputs": [
    {
     "data": {
      "text/plain": [
       "array([[62.58310191, 29.74222635],\n",
       "       [60.79801979, 25.11891158],\n",
       "       [62.66850462, 22.73016118],\n",
       "       [67.44744495, 26.14583211],\n",
       "       [63.27180377, 28.93835553]])"
      ]
     },
     "execution_count": 6,
     "metadata": {},
     "output_type": "execute_result"
    }
   ],
   "source": [
    "centers = scaler.inverse_transform(kmeans.cluster_centers_)\n",
    "centers"
   ]
  },
  {
   "cell_type": "markdown",
   "metadata": {},
   "source": [
    "## Output Evaluation\n",
    "\n",
    "To evaluate the algorithms, we can see how the clustering is generated and how it fits to real world map. By applying the 5 clusters' centers into real map.\n",
    "\n",
    "The first center [(62.58310191, 29.74222635)](https://www.google.com/maps/place/62°34'59.2%22N+29°44'32.0%22E/@62.5887949,29.7308967,14z/data=!4m5!3m4!1s0x0:0x0!8m2!3d62.5831019!4d29.7422264) locates on very east of Finland, and it is amolst perfectly on [Joensuu](https://www.google.com/maps/place/Joensuu,+Finland/@62.6485109,29.7932699,9z/data=!3m1!4b1!4m13!1m7!3m6!1s0x0:0x0!2zNjLCsDM0JzU5LjIiTiAyOcKwNDQnMzIuMCJF!3b1!8m2!3d62.5831019!4d29.7422264!3m4!1s0x469b8665df05a50d:0x601790016cff7e27!8m2!3d62.6010242!4d29.7635508). \n",
    "\n",
    "The Second center [(60.79801979, 25.11891158)](https://www.google.com/maps/place/60°47'52.9%22N+25°07'08.1%22E/@60.7980224,16.1540682,5z/data=!4m5!3m4!1s0x0:0x0!8m2!3d60.7980198!4d25.1189116) locates on southern Finland, it closes to the [Helsinki](https://www.google.com/maps/place/Helsinki,+Finland/@60.11021,24.7385077,10z/data=!3m1!4b1!4m13!1m7!3m6!1s0x0:0x0!2zNjDCsDQ3JzUyLjkiTiAyNcKwMDcnMDguMSJF!3b1!8m2!3d60.7980198!4d25.1189116!3m4!1s0x46920bc796210691:0xcd4ebd843be2f763!8m2!3d60.1688416!4d24.9389648).   \n",
    "\n",
    "\n",
    "The third center [(62.66850462, 22.73016118)](https://www.google.com/maps/place/62°40'06.6%22N+22°43'48.6%22E/@62.668507,18.2477395,6z/data=!4m5!3m4!1s0x0:0x0!8m2!3d62.6685046!4d22.7301612) locates on the western, but it does not fit into any big city.  \n",
    "\n",
    "\n",
    "The forth center [(67.44744495, 26.14583211)](https://www.google.com/maps/place/67°26'50.8%22N+26°08'45.0%22E/@67.447447,21.6634104,6z/data=!4m5!3m4!1s0x0:0x0!8m2!3d67.447445!4d26.1458321) is on the very north of Finland and closes to [Sodankylä](https://www.google.com/maps/place/99600+Sodankylä,+Finland/@67.4160066,26.5802179,15z/data=!3m1!4b1!4m13!1m7!3m6!1s0x0:0x0!2zNjfCsDI2JzUwLjgiTiAyNsKwMDgnNDUuMCJF!3b1!8m2!3d67.447445!4d26.1458321!3m4!1s0x45d2cc15734b7107:0x40146d63c75bfe0!8m2!3d67.4159271!4d26.5896606).  \n",
    "\n",
    "Finally, the last center [(63.27180377, 28.93835553)](https://www.google.com/maps/place/63°16'18.5%22N+28°56'18.1%22E/@63.2718062,24.4559338,6z/data=!4m5!3m4!1s0x0:0x0!8m2!3d63.2718038!4d28.9383555) is on the middle of Finland but not closes to any city.  \n",
    "\n",
    "\n",
    "As the following group shows, the KMean well grouped 5 different areas(north, east, west, south and middle) in Finland. Although not each point is perfectly located on a city, we still can see they are quite balanced "
   ]
  }
 ],
 "metadata": {
  "kernelspec": {
   "display_name": "Python 3",
   "language": "python",
   "name": "python3"
  },
  "language_info": {
   "codemirror_mode": {
    "name": "ipython",
    "version": 3
   },
   "file_extension": ".py",
   "mimetype": "text/x-python",
   "name": "python",
   "nbconvert_exporter": "python",
   "pygments_lexer": "ipython3",
   "version": "3.8.5"
  }
 },
 "nbformat": 4,
 "nbformat_minor": 5
}
